{
  "nbformat": 4,
  "nbformat_minor": 0,
  "metadata": {
    "colab": {
      "provenance": [],
      "authorship_tag": "ABX9TyOKo79KRyXye1SReWOp0wuF"
    },
    "kernelspec": {
      "name": "python3",
      "display_name": "Python 3"
    },
    "language_info": {
      "name": "python"
    }
  },
  "cells": [
    {
      "cell_type": "markdown",
      "source": [
        "\n",
        "\n",
        "```\n",
        "# f(x) = -12x^4*sin(cos(x)) - 18x^3+5x^2 + 10x - 30\n",
        "1.Определить корни\n",
        "2.Найти интервалы, на которых функция возрастает\n",
        "3.Найти интервалы, на которых функция убывает\n",
        "4.Построить график\n",
        "5.Вычислить вершину\n",
        "6.Определить промежутки, на котором f > 0\n",
        "7.Определить промежутки, на котором f < 0\n",
        "```"
      ],
      "metadata": {
        "id": "2zf_f1G3Clvm"
      }
    },
    {
      "cell_type": "code",
      "source": [
        "from sympy import *\n",
        "from sympy.plotting import plot"
      ],
      "metadata": {
        "id": "IjsrL3qFCwDw"
      },
      "execution_count": null,
      "outputs": []
    },
    {
      "cell_type": "code",
      "source": [
        "x = Symbol('x', real=True)\n",
        "f = -12*x**4 * sin(cos(x)) - 18*x**3 + 5*x**2 + 10*x - 30"
      ],
      "metadata": {
        "id": "tzCmIT1CDNF_"
      },
      "execution_count": null,
      "outputs": []
    },
    {
      "cell_type": "markdown",
      "source": [
        "**1.Определить корни**"
      ],
      "metadata": {
        "id": "CqEwtstFDBQ_"
      }
    },
    {
      "cell_type": "code",
      "source": [
        "nsolve((f,), (x,), (0,))"
      ],
      "metadata": {
        "colab": {
          "base_uri": "https://localhost:8080/",
          "height": 38
        },
        "id": "Jv7Vp59TC-SP",
        "outputId": "d1c75855-8d45-47cc-8df2-2134dc92f9c3"
      },
      "execution_count": null,
      "outputs": [
        {
          "output_type": "execute_result",
          "data": {
            "text/plain": [
              "Matrix([[-1.33896663927711]])"
            ],
            "text/latex": "$\\displaystyle \\left[\\begin{matrix}-1.33896663927711\\end{matrix}\\right]$"
          },
          "metadata": {},
          "execution_count": 39
        }
      ]
    },
    {
      "cell_type": "markdown",
      "source": [
        "**2.Найти интервалы, на которых функция возрастает**\n",
        "\n",
        "**3.Найти интервалы, на которых функция убывает**"
      ],
      "metadata": {
        "id": "6TkTMp__Fj5q"
      }
    },
    {
      "cell_type": "code",
      "source": [
        "d = diff(f,x)"
      ],
      "metadata": {
        "id": "oy4cUmSyFjPA"
      },
      "execution_count": null,
      "outputs": []
    },
    {
      "cell_type": "code",
      "source": [
        "d.subs(x, -7)"
      ],
      "metadata": {
        "colab": {
          "base_uri": "https://localhost:8080/",
          "height": 37
        },
        "id": "RzqkFr9OGoms",
        "outputId": "75503463-2d21-46c3-8fd8-0d862262f5ed"
      },
      "execution_count": null,
      "outputs": [
        {
          "output_type": "execute_result",
          "data": {
            "text/plain": [
              "-28812*sin(7)*cos(cos(7)) - 2706 + 16464*sin(cos(7))"
            ],
            "text/latex": "$\\displaystyle - 28812 \\sin{\\left(7 \\right)} \\cos{\\left(\\cos{\\left(7 \\right)} \\right)} - 2706 + 16464 \\sin{\\left(\\cos{\\left(7 \\right)} \\right)}$"
          },
          "metadata": {},
          "execution_count": 41
        }
      ]
    },
    {
      "cell_type": "code",
      "source": [
        "d.subs(x, 7)"
      ],
      "metadata": {
        "colab": {
          "base_uri": "https://localhost:8080/",
          "height": 37
        },
        "id": "6W2fPwwTHEE3",
        "outputId": "00185d05-14b6-46c3-b2fc-1fdeadbb6ade"
      },
      "execution_count": null,
      "outputs": [
        {
          "output_type": "execute_result",
          "data": {
            "text/plain": [
              "-16464*sin(cos(7)) - 2566 + 28812*sin(7)*cos(cos(7))"
            ],
            "text/latex": "$\\displaystyle - 16464 \\sin{\\left(\\cos{\\left(7 \\right)} \\right)} - 2566 + 28812 \\sin{\\left(7 \\right)} \\cos{\\left(\\cos{\\left(7 \\right)} \\right)}$"
          },
          "metadata": {},
          "execution_count": 42
        }
      ]
    },
    {
      "cell_type": "markdown",
      "source": [
        "**4.Построить график**"
      ],
      "metadata": {
        "id": "8qv4CC1uGEmo"
      }
    },
    {
      "cell_type": "code",
      "source": [
        "plot(f);"
      ],
      "metadata": {
        "colab": {
          "base_uri": "https://localhost:8080/",
          "height": 297
        },
        "id": "JV5EMJw3GHYv",
        "outputId": "177959dd-123d-4307-f6a1-78626ea6044f"
      },
      "execution_count": null,
      "outputs": [
        {
          "output_type": "display_data",
          "data": {
            "text/plain": [
              "<Figure size 432x288 with 1 Axes>"
            ],
            "image/png": "[encoded data removed]"
          },
          "metadata": {
            "needs_background": "light"
          }
        }
      ]
    },
    {
      "cell_type": "markdown",
      "source": [
        "5.**Вычислить вершину**"
      ],
      "metadata": {
        "id": "KeBtHgQeHUIb"
      }
    },
    {
      "cell_type": "code",
      "source": [
        "f.subs(x, -1)"
      ],
      "metadata": {
        "colab": {
          "base_uri": "https://localhost:8080/",
          "height": 37
        },
        "id": "6i-QVtHZHZBK",
        "outputId": "b32b15a3-9698-422f-a8af-19347fdc3da3"
      },
      "execution_count": null,
      "outputs": [
        {
          "output_type": "execute_result",
          "data": {
            "text/plain": [
              "-17 - 12*sin(cos(1))"
            ],
            "text/latex": "$\\displaystyle -17 - 12 \\sin{\\left(\\cos{\\left(1 \\right)} \\right)}$"
          },
          "metadata": {},
          "execution_count": 44
        }
      ]
    },
    {
      "cell_type": "markdown",
      "source": [
        "**6.Определить промежутки, на котором f > 0**\n",
        "\n",
        "**7.Определить промежутки, на котором f < 0**"
      ],
      "metadata": {
        "id": "_ZBQ10b5HhGM"
      }
    },
    {
      "cell_type": "code",
      "source": [
        "solveset(f > 0, x, S.Reals)"
      ],
      "metadata": {
        "colab": {
          "base_uri": "https://localhost:8080/",
          "height": 38
        },
        "id": "dmsZ-S5LHnj9",
        "outputId": "26e401fa-d678-43ba-da18-1f78404dc540"
      },
      "execution_count": null,
      "outputs": [
        {
          "output_type": "execute_result",
          "data": {
            "text/plain": [
              "ConditionSet(x, -12*x**4*sin(cos(x)) - 18*x**3 + 5*x**2 + 10*x - 30 > 0, Reals)"
            ],
            "text/latex": "$\\displaystyle \\left\\{x \\mid x \\in \\mathbb{R} \\wedge - 12 x^{4} \\sin{\\left(\\cos{\\left(x \\right)} \\right)} - 18 x^{3} + 5 x^{2} + 10 x - 30 > 0 \\right\\}$"
          },
          "metadata": {},
          "execution_count": 45
        }
      ]
    },
    {
      "cell_type": "code",
      "source": [
        "solveset(f < 0, x, S.Reals)"
      ],
      "metadata": {
        "colab": {
          "base_uri": "https://localhost:8080/",
          "height": 38
        },
        "id": "HB6IAKEXHpYO",
        "outputId": "7a64465e-ad9d-4a04-82d2-b0d0fa3049b1"
      },
      "execution_count": null,
      "outputs": [
        {
          "output_type": "execute_result",
          "data": {
            "text/plain": [
              "ConditionSet(x, -12*x**4*sin(cos(x)) - 18*x**3 + 5*x**2 + 10*x - 30 < 0, Reals)"
            ],
            "text/latex": "$\\displaystyle \\left\\{x \\mid x \\in \\mathbb{R} \\wedge - 12 x^{4} \\sin{\\left(\\cos{\\left(x \\right)} \\right)} - 18 x^{3} + 5 x^{2} + 10 x - 30 < 0 \\right\\}$"
          },
          "metadata": {},
          "execution_count": 46
        }
      ]
    }
  ]
}